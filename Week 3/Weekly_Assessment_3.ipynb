{
  "nbformat": 4,
  "nbformat_minor": 0,
  "metadata": {
    "colab": {
      "provenance": [],
      "collapsed_sections": [
        "J_WTl7rCqgiD"
      ]
    },
    "kernelspec": {
      "name": "python3",
      "display_name": "Python 3"
    },
    "language_info": {
      "name": "python"
    }
  },
  "cells": [
    {
      "cell_type": "markdown",
      "source": [
        "#Weekly Assessment 3\n",
        "\n",
        "Instructions:\n",
        "\n",
        "1. Sign the Honor Pledge.\n",
        "2. In addition to your own notes and books, online resources can also be used but you have to provide reference(s)."
      ],
      "metadata": {
        "id": "9s_s4MA6R8TC"
      }
    },
    {
      "cell_type": "markdown",
      "source": [
        "Honesty Pledge:\n",
        "\n",
        "\n",
        "I pledge on my honor that I have not given or received any unauthorized assistance on this exam/assignment.\n",
        "\n",
        "Indicate your Name / Date: \n",
        "\n",
        "---\n",
        "\n"
      ],
      "metadata": {
        "id": "SdvnofbfSHSc"
      }
    },
    {
      "cell_type": "markdown",
      "source": [
        "1. Power Function\n",
        "\n",
        "(a). Draw the recursion trace for the computation of power(2,5), using the traditional function implemented in the following code fragment. What is the time complexity of this algorithm? Show your complete solution.\n",
        "\n",
        "```\n",
        "def power(x, n):\n",
        "  ”””Compute the value x     n for integer n.””” \n",
        "  if n == 0:\n",
        "    return 1 \n",
        "  else:\n",
        "    return x * power(x, n−1)\n",
        "```\n",
        "\n"
      ],
      "metadata": {
        "id": "149XLlB5T0k6"
      }
    },
    {
      "cell_type": "markdown",
      "source": [
        "###Answer:"
      ],
      "metadata": {
        "id": "J_WTl7rCqgiD"
      }
    },
    {
      "cell_type": "markdown",
      "source": [
        "(b) Draw the recursion trace for the computation of power(2,18), using the repeated squaring algorithm, as implemented in the following code fragment. What is the time complexity of this algorithm? Show your complete solution.\n",
        "\n",
        "```\n",
        "def power(x, n):\n",
        "  ”””Compute the value x     n for integer n.””” \n",
        "  if n == 0:\n",
        "    return 1 \n",
        "  else:\n",
        "    partial = power(x, n // 2) \n",
        "    result = partial   partial\n",
        "    if n % 2 == 1:\n",
        "      result   = x return result\n",
        "```\n",
        "\n"
      ],
      "metadata": {
        "id": "YNgERwlPpZqn"
      }
    },
    {
      "cell_type": "markdown",
      "source": [
        "###Answer:"
      ],
      "metadata": {
        "id": "WLfVqTuQqiXR"
      }
    },
    {
      "cell_type": "markdown",
      "source": [
        "2. Isabel has an interesting way of summing up the values in a sequence $A$ of $n$ integers, where $n$ is a power of two. She creates a new sequence $B$ of half the size of $A$ and sets $B[i] = A[2i]+A[2i+1]$, for $i = 0,1, . . . , (n/2)−1$. If $B$ has size 1, then she outputs $B[0]$. Otherwise, she replaces $A$ with $B$, and repeats the process. What is the running time of her algorithm?"
      ],
      "metadata": {
        "id": "iqW5c5dLqqwI"
      }
    },
    {
      "cell_type": "markdown",
      "source": [
        "###Answer:"
      ],
      "metadata": {
        "id": "wFqXnHtUrKeh"
      }
    },
    {
      "cell_type": "markdown",
      "source": [
        "3. Write a short recursive Python function that takes a character string s and outputs its reverse.\n",
        "\n",
        "Sample test case:\n",
        "\n",
        "```\n",
        "The original string is : computer\n",
        "The reversed string(using loops) is : retupmoc\n",
        "```\n",
        "\n",
        "\n",
        "\n"
      ],
      "metadata": {
        "id": "MFKZR5UXrNr8"
      }
    },
    {
      "cell_type": "code",
      "source": [
        "# YOUR CODE HERE"
      ],
      "metadata": {
        "id": "Jy9oenm4ragv"
      },
      "execution_count": null,
      "outputs": []
    },
    {
      "cell_type": "markdown",
      "source": [
        "4. Write a recursive function that will output all the subsets of a set of $n$ elements. without repeating any subsets(i.e., if there is ‘ab’, there shoudn’t be ‘ba’). Order of the subsets are not important. Null subset can also be neglected.\n",
        "\n",
        "Sample test case: \n",
        "\n",
        "```\n",
        "Input : abc\n",
        "Output: \n",
        "abc \n",
        "a \n",
        "ab \n",
        "ac \n",
        "b \n",
        "bc \n",
        "c\n",
        "```\n",
        "\n",
        "\n"
      ],
      "metadata": {
        "id": "EyBXVNcgrcnz"
      }
    },
    {
      "cell_type": "code",
      "source": [
        "# YOUR CODE HERE"
      ],
      "metadata": {
        "id": "FbfhJmQPrktB"
      },
      "execution_count": null,
      "outputs": []
    },
    {
      "cell_type": "markdown",
      "source": [],
      "metadata": {
        "id": "Y_daOYwHr5Ux"
      }
    }
  ]
}