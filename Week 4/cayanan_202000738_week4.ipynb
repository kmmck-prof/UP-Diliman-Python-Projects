{
 "cells": [
  {
   "cell_type": "markdown",
   "metadata": {
    "id": "9s_s4MA6R8TC"
   },
   "source": [
    "#Weekly Assessment 4\n",
    "\n",
    "Instructions:\n",
    "\n",
    "1. Sign the Honor Pledge.\n",
    "2. In addition to your own notes and books, online resources can also be used but you have to provide reference(s)."
   ]
  },
  {
   "cell_type": "markdown",
   "metadata": {
    "id": "SdvnofbfSHSc"
   },
   "source": [
    "Honesty Pledge:\n",
    "\n",
    "\n",
    "I pledge on my honor that I have not given or received any unauthorized assistance on this exam/assignment.\n",
    "\n",
    "Indicate your Name / Date: \n",
    "Kyle Matthew Cayanan / March 14, 2023\n",
    "\n",
    "---\n",
    "\n"
   ]
  },
  {
   "cell_type": "markdown",
   "metadata": {
    "id": "149XLlB5T0k6"
   },
   "source": [
    "1. Linda claims to have an algorithm that takes an input sequence $S$ and produces an output sequence $T$ that is a sorting of the $n$ elements in $S$.\n",
    "\n",
    "(a) Give an algorithm, ```is_sorted```, that tests in $O(n)$ time if $T$ is sorted. [10 pts]\n"
   ]
  },
  {
   "cell_type": "markdown",
   "metadata": {
    "id": "J_WTl7rCqgiD"
   },
   "source": [
    "###Answer:\n",
    "\n",
    "def is_sorted(input):\n",
    "\n",
    "    i=0\n",
    "    \n",
    "    end=len(input)\n",
    "    \n",
    "    while i<end:\n",
    "        if i==0:\n",
    "            if input[0]>input[1]:\n",
    "                return False\n",
    "        elif i==end-1:\n",
    "            if input[i-1]>input[i]:\n",
    "                return False\n",
    "        else:\n",
    "            if input[i-1]>input[i]:\n",
    "                return False\n",
    "        i+=1\n",
    "    \n",
    "    return True\n",
    "\n",
    "#check T using is_sorted()\n",
    "\n",
    "print(is_sorted(T))"
   ]
  },
  {
   "cell_type": "markdown",
   "metadata": {
    "id": "YNgERwlPpZqn"
   },
   "source": [
    "(b) Explain why the algorithm ```is_sorted``` is not sufficient to prove a particular output $T$ to Linda’s algorithm is a sorting of $S$. [10 pts]\n",
    "\n",
    "\n"
   ]
  },
  {
   "cell_type": "markdown",
   "metadata": {
    "id": "WLfVqTuQqiXR"
   },
   "source": [
    "###Answer:\n",
    "\n",
    "In question 1.a, I wrote a code that simply checks if an input T is sorted. It succesfully runs in O(n) time. However, assuming that we need to also verify if T is a sequence from S, that means we need to check if the validity of T. Every variable in T must exist in S identically. \n",
    "\n",
    "You would need a for-loop to get every index of T, then you would need a second for loop to compare a single variable to every element in S. This means that you would have a nested loop that has run time of O(n^2).\n",
    "\n",
    "\n"
   ]
  },
  {
   "cell_type": "markdown",
   "metadata": {
    "id": "iqW5c5dLqqwI"
   },
   "source": [
    "(c) Describe what additional information Linda’s algorithm could output so that her algorithm’s correctness could be established on any given $S$ and $T$ in $O(n)$ time. [10 pts]\n"
   ]
  },
  {
   "cell_type": "markdown",
   "metadata": {
    "id": "wFqXnHtUrKeh"
   },
   "source": [
    "###Answer:\n",
    "\n",
    "Linda could create a dictionary that contains the original position of every element. They key should be the final position of every element. This way, we can just compare every element [i] to the value of the dictionary. \n",
    "\n",
    "The dictionary will contain the index positions, and these index positions will be attached to S.\n",
    "\n",
    "For i in T:\n",
    "    if i!=S[dictionary[i]]\n",
    "\n"
   ]
  },
  {
   "cell_type": "markdown",
   "metadata": {
    "id": "MFKZR5UXrNr8"
   },
   "source": [
    "2. Suppose we are given an $n$-element sequence $S$ such that each element in $S$ represents a different vote for president, where each vote is given as an integer representing a particular candidate, yet the integers may be arbitrariily large (even if the number of candidates is not). Design an $O(n \\log n)$- time algorithm to see who wins the election $S$ represents, assuming the candidate with the most votes wins. [20 pts]"
   ]
  },
  {
   "cell_type": "markdown",
   "metadata": {
    "id": "oaa__byVWIgA"
   },
   "source": [
    "###Answer:\n",
    "\n",
    "For this problem, the best solution that has O(nlog(n)) time is the merge sort. The reference I have used for merge sort is this website: https://www.programiz.com/dsa/merge-sort.\n",
    "\n",
    "Afterwards, I modified the code to return the largest number after the merge sort is completed. \n",
    "\n",
    "Remarks: the tutorial taught me how to use recursion using array modificaiton instead of array addition. This is the reason why there are no \"return\" functions in the code. Instead of return, the array object is modified directly.\n",
    "\n",
    "This is the actual code:\n",
    "\n",
    "#variable for testing\n",
    "merger=[2312,4143,653,133]\n",
    "\n",
    "#actual merge sort function\n",
    "def mergeSort(array):\n",
    "    \n",
    "    #while array is still greater than two elements, sort them into half\n",
    "    #this will repeat until list size of two. The two elements will be sorted to left side and right side\n",
    "    if len(array) > 1:\n",
    "\n",
    "        #  r is midpoint\n",
    "        r = len(array)//2\n",
    "        L = array[:r]\n",
    "        M = array[r:]\n",
    "\n",
    "\n",
    "        #recursion to sort the two halves\n",
    "        #if the input is a single element, no array modification will occur\n",
    "        mergeSort(L)\n",
    "        mergeSort(M)\n",
    "        \n",
    "        #reset counters\n",
    "        i = j = k = 0\n",
    "\n",
    "        # left side and right side is compared\n",
    "        # they will be compared using index i and index j\n",
    "        while i < len(L) and j < len(M):\n",
    "            \n",
    "            #if left side is smaller, it will be sorted to the output array\n",
    "            if L[i] < M[j]:\n",
    "                array[k] = L[i]\n",
    "                \n",
    "                #i will only iterate if the left side is the lower element\n",
    "                i += 1\n",
    "                \n",
    "            #if right side is smaller, it will be sorted to the output array\n",
    "            else:\n",
    "                array[k] = M[j]\n",
    "                #j will only iterate if the right side is the lower element\n",
    "                j += 1\n",
    "                \n",
    "            #k is the index for the output array\n",
    "            #it will only iterate if an element is added to the final output\n",
    "            k += 1\n",
    "\n",
    "        \n",
    "        #if either L or M runs out early, the following loops will add the remaining elements to the array\n",
    "        #recall that this is under the assumption that L and H are already sorted\n",
    "        \n",
    "        #while Left still has remaining elements, add them to the array\n",
    "        while i < len(L):\n",
    "            array[k] = L[i]\n",
    "            i += 1\n",
    "            k += 1\n",
    "\n",
    "        #while Right still has remaining elements, add them to the array\n",
    "        while j < len(M):\n",
    "            array[k] = M[j]\n",
    "            j += 1\n",
    "            k += 1\n",
    "\n",
    "#function for testing\n",
    "#calls merge sort using the test list \"merger\"\n",
    "def vote_checker(input):\n",
    "    #fetch the sorted votes using merge sort\n",
    "    win_list=merge_sort(input)\n",
    "    \n",
    "    #get the largest vote from the end of the list\n",
    "    winner=win_list[-1]\n",
    "    \n",
    "    #return the winning vote\n",
    "    return winner\n",
    "\n",
    "print(vote_checker(merger))\n",
    "    \n",
    "\n",
    "\n",
    "\n",
    "\n",
    "\n"
   ]
  },
  {
   "cell_type": "markdown",
   "metadata": {
    "id": "cbaSU_MEWRiV"
   },
   "source": [
    "3. Suppose we are given two $n$-element sorted sequences $A$ and $B$ each with distinct elements, but potentially some elements that are in both sequences. \n",
    "\n",
    "(a) Describe an $O(n)$-time method for computing a sequence representing the union $A \\cup B$ (with no duplicates) as a sorted sequence. [10 pts]"
   ]
  },
  {
   "cell_type": "markdown",
   "metadata": {
    "id": "74o_X8-Yi633"
   },
   "source": [
    "###Answer:\n",
    "\n",
    "For this problem, I will implement a similar concept that was applied in merge sort. I will use three variables to use as counters that will compare A and B. However, I modified this function to have a third case. In a case where A and B have an equal element, only 1 instance will be added. Then both i and j will be iterated. Then finally I will sort the list to pop a variable whenever a duplicate exists. \n",
    "\n",
    "This will be a linear iteration, therefore it will have O(n) time. \n",
    "\n",
    "\n",
    "\n"
   ]
  },
  {
   "cell_type": "markdown",
   "metadata": {
    "id": "tfhhCgJSi9Ny"
   },
   "source": [
    "(b) Implement your method in (a) for integer elements. Perform an experimental performance test of its running times and show a summary graph. [20 pts]"
   ]
  },
  {
   "cell_type": "code",
   "execution_count": null,
   "metadata": {
    "id": "shZKYtdajlsU"
   },
   "outputs": [],
   "source": [
    "# YOUR CODE HERE\n",
    "\n",
    "The actual code:\n",
    "\n",
    "testA=[1,2,3,4,9]\n",
    "testB=[1,3,4,5,6,7,8]\n",
    "\n",
    "def Linear_Sort(A,B):\n",
    "    array=A+B\n",
    "    i = j = k = 0\n",
    "\n",
    "    while i < len(A) and j < len(B):\n",
    "\n",
    "        if A[i] < B[j]:\n",
    "            array[k] = A[i]\n",
    "\n",
    "            i += 1\n",
    "\n",
    "        elif A[i] == B[j]:\n",
    "            array[k] = A[i]\n",
    "            array.pop(-1)\n",
    "\n",
    "            i += 1\n",
    "            j += 1\n",
    "\n",
    "\n",
    "        else:\n",
    "            array[k] = B[j]\n",
    "\n",
    "            j += 1\n",
    "\n",
    "\n",
    "        k += 1\n",
    "\n",
    "    while i < len(A):\n",
    "        array[k] = A[i]\n",
    "        i += 1\n",
    "        k += 1\n",
    "\n",
    "    #while Right still has remaining elements, add them to the array\n",
    "    while j < len(B):\n",
    "        array[k] = B[j]\n",
    "        j += 1\n",
    "        k += 1\n",
    "\n",
    "    return array\n",
    "    \n",
    "print(Linear_Sort(testA,testB))\n"
   ]
  },
  {
   "cell_type": "markdown",
   "metadata": {
    "id": "hS3Wd4VwjoND"
   },
   "source": [
    "Benchmarking Results here."
   ]
  },
  {
   "cell_type": "markdown",
   "metadata": {
    "id": "A0mc04mOV_uH"
   },
   "source": [
    "4. Look at the two different algorithms for finding the maximum contiguous subarray below: ```maxSubArraySum``` and ```maxSubArraySum2```."
   ]
  },
  {
   "cell_type": "code",
   "execution_count": 3,
   "metadata": {
    "colab": {
     "base_uri": "https://localhost:8080/"
    },
    "executionInfo": {
     "elapsed": 169,
     "status": "ok",
     "timestamp": 1678449619415,
     "user": {
      "displayName": "Nestor Tiglao",
      "userId": "11164816290604412246"
     },
     "user_tz": 300
    },
    "id": "dDNlawsDWDFF",
    "outputId": "75efcf6c-3a10-427f-a500-6a8ab9c50529"
   },
   "outputs": [
    {
     "name": "stdout",
     "output_type": "stream",
     "text": [
      "Maximum contiguous sum is 7\n",
      "Maximum contiguous sum is 7\n"
     ]
    }
   ],
   "source": [
    "# Function to find the maximum contiguous subarray\n",
    "import sys\n",
    "  \n",
    "def maxCrossingSum(arr, l, m, h):\n",
    "  \n",
    "    # Include elements on left of mid.\n",
    "    sm = 0\n",
    "    left_sum = -10000\n",
    "  \n",
    "    for i in range(m, l-1, -1):\n",
    "        sm = sm + arr[i]\n",
    "  \n",
    "        if (sm > left_sum):\n",
    "            left_sum = sm\n",
    "  \n",
    "    # Include elements on right of mid\n",
    "    sm = 0\n",
    "    right_sum = -1000\n",
    "    for i in range(m, h + 1):\n",
    "        sm = sm + arr[i]\n",
    "  \n",
    "        if (sm > right_sum):\n",
    "            right_sum = sm\n",
    "  \n",
    "    # Return sum of elements on left and right of mid\n",
    "    # returning only left_sum + right_sum will fail for [-2, 1]\n",
    "    return max(left_sum + right_sum - arr[m], left_sum, right_sum)\n",
    "  \n",
    "  \n",
    "# Returns sum of maximum sum subarray in arr[l..h]\n",
    "def maxSubArraySum(arr, l, h):\n",
    "    #Invalid Range: low is greater than high\n",
    "    if (l > h):\n",
    "        return -10000\n",
    "    # Base Case: Only one element\n",
    "    if (l == h):\n",
    "        return arr[l]\n",
    "  \n",
    "    # Find middle point\n",
    "    m = (l + h) // 2\n",
    "  \n",
    "    # Return maximum of following three possible cases\n",
    "    # a) Maximum subarray sum in left half\n",
    "    # b) Maximum subarray sum in right half\n",
    "    # c) Maximum subarray sum such that the\n",
    "    #     subarray crosses the midpoint\n",
    "    return max(maxSubArraySum(arr, l, m-1),\n",
    "               maxSubArraySum(arr, m+1, h),\n",
    "               maxCrossingSum(arr, l, m, h))\n",
    "\n",
    "def maxSubArraySum2(a, size):\n",
    "  \n",
    "    max_so_far = -sys.maxsize - 1\n",
    "    max_ending_here = 0\n",
    "  \n",
    "    for i in range(0, size):\n",
    "        max_ending_here = max_ending_here + a[i]\n",
    "        if (max_so_far < max_ending_here):\n",
    "            max_so_far = max_ending_here\n",
    "  \n",
    "        if max_ending_here < 0:\n",
    "            max_ending_here = 0\n",
    "    return max_so_far\n",
    "  \n",
    "\n",
    "# Driver function to check the above function\n",
    "  \n",
    "a = [-2, -3, 4, -1, -2, 1, 5, -3]\n",
    "print (\"Maximum contiguous sum is \"+ str(maxSubArraySum(a, 0, len(a)-1)))\n",
    "print (\"Maximum contiguous sum is \"+ str(maxSubArraySum2(a, len(a))))"
   ]
  },
  {
   "cell_type": "markdown",
   "metadata": {
    "id": "0kIulDDdWult"
   },
   "source": [
    "(a) Which algorithms uses a Divide-and-conquer approach and which one does not? Explain your answer. [10 pts]"
   ]
  },
  {
   "cell_type": "markdown",
   "metadata": {
    "id": "0TypksZDW8jQ"
   },
   "source": [
    "###Answer:\n",
    "The function that uses divide and conquer is \"maxSubArraySum2\". This is because it solves for the midpoint. Afterwards, the midpoint is used to recursively call itself. This is repeated for the left half and right half. The recursion continues until the leftmost (first) element is equal to the rightmost (last) element. This means that the recursion repeats until the array is size 1. "
   ]
  },
  {
   "cell_type": "markdown",
   "metadata": {
    "id": "KUroXXkuXA4W"
   },
   "source": [
    "(b) The function ```maxSubArraySum2``` is an implementation of Kadane's Method.  Explain what it does to solve the maximum contiguous subarray problem? What is the big Oh time complexity of this algorithm?  [10 pts]"
   ]
  },
  {
   "cell_type": "markdown",
   "metadata": {
    "id": "gP_l62tXX-e0"
   },
   "source": [
    "###Answer:\n",
    "\n",
    "I tried to interpret this function using this online source: https://www.interviewbit.com/blog/maximum-subarray-sum/#:~:text=Kadane%27s%20Algorithm%20is%20an%20iterative,ending%20at%20the%20previous%20position. \n",
    "\n",
    "How it solved the problem is to first set max_so_far to the largest negative integer, then max_ending_here to zero. Because max_so_far is set to the lowest integer, it will always be less than any sum so far. \n",
    "\n",
    "For the actual iteration, it will use a for loop to iterate through all n inputs. Max_ending_here simply solves for the sum of inputs. If its sum is larger than max_so_far, max_so_far will be updated to that new value. \n",
    "\n",
    "Any negative sum will become max_so_far new value. Then max_ending_here will reset to zero. This will repeat everytime a negative input is entered. \n",
    "\n",
    "When a positive input is entered, it will be added to zero, and that will become the new max_so_far. Repeat until all n complete.\n",
    "\n",
    "To summarize: max_ending_here gets the sum of each element between iterations. Max_so_far keeps track of the largest sum ever reached.\n",
    "\n",
    "Finally, this action is only repeated for the entire length of the list. This means that the runtime is O(n). \n",
    "\n",
    "\n"
   ]
  }
 ],
 "metadata": {
  "colab": {
   "authorship_tag": "ABX9TyORWo9v+94ZoZ51bPR6zbHL",
   "provenance": []
  },
  "kernelspec": {
   "display_name": "Python 3 (ipykernel)",
   "language": "python",
   "name": "python3"
  },
  "language_info": {
   "codemirror_mode": {
    "name": "ipython",
    "version": 3
   },
   "file_extension": ".py",
   "mimetype": "text/x-python",
   "name": "python",
   "nbconvert_exporter": "python",
   "pygments_lexer": "ipython3",
   "version": "3.9.13"
  }
 },
 "nbformat": 4,
 "nbformat_minor": 1
}
