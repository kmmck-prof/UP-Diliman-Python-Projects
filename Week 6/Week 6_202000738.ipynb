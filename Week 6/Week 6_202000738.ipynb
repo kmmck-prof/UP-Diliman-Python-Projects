{
 "cells": [
  {
   "cell_type": "markdown",
   "metadata": {
    "id": "9s_s4MA6R8TC"
   },
   "source": [
    "#Weekly Assessment 6\n",
    "\n",
    "Instructions:\n",
    "\n",
    "1. Sign the Honor Pledge.\n",
    "2. In addition to your own notes and books, online resources can also be used but you have to provide reference(s)."
   ]
  },
  {
   "cell_type": "markdown",
   "metadata": {
    "id": "SdvnofbfSHSc"
   },
   "source": [
    "Honesty Pledge:\n",
    "\n",
    "\n",
    "I pledge on my honor that I have not given or received any unauthorized assistance on this exam/assignment.\n",
    "\n",
    "Indicate your Name / Date: Kyle Matthew M. Cayanan / April 25, 2023\n",
    "\n",
    "---\n",
    "\n"
   ]
  },
  {
   "cell_type": "markdown",
   "metadata": {
    "id": "GDVDIS11QLTN"
   },
   "source": [
    "1. [20 pts] An airport is developing a computer simulation of air-traffic control that handles events such as landings and takeoffs. Each event has a time stamp that denotes the time when the event will occur. The simulation program needs to efficiently perform the following two fundamental operations:\n",
    "\n",
    "*   Insert an event with a given time stamp (that is, add a future event).\n",
    "*   Extract the event with smallest time stamp (that is, determine the\n",
    "next event to process).\n",
    "\n",
    "Which data structure should be used for the above operations? Why?"
   ]
  },
  {
   "cell_type": "markdown",
   "metadata": {
    "id": "aXkyHnjzT78b"
   },
   "source": [
    "###Answer:Min-Heap Data Structure\n",
    "\n",
    "Reason: Min-Heap is chosen because \"Heap\" organizes data in numerical order. Because of its numerical nature, it is an efficient choice for \"inserting a given time stamp\". According to the lecture, inserting  \n",
    "\n",
    "For Min-Heap specifically, the smallest value is always in the root node. Therefore, searching for \"the event with smallest time stamp\" is efficient in this data structure."
   ]
  },
  {
   "cell_type": "markdown",
   "metadata": {
    "id": "LU6vE1L2VfWQ"
   },
   "source": [
    "2. [20 pts] What does each ```remove_min``` call return within the following sequence of priority queue ADT methods: \n",
    "\n",
    "add(5,A), add(4,B), add(7,F), add(1,D), remove_min(), add(3,J), add(6,L), remove_min(), remove_min(), add(8,G), remove_min(), add(2,H), remove_min(), remove_min()?\n"
   ]
  },
  {
   "cell_type": "code",
   "execution_count": null,
   "metadata": {
    "id": "JcF4B9mtdsIa"
   },
   "outputs": [],
   "source": []
  },
  {
   "cell_type": "markdown",
   "metadata": {
    "id": "K6wXfwUZVdqj"
   },
   "source": [
    "###Answer:\n",
    "Solution:\n",
    "    - Interpretation: remove_min() refers to the removal of the lowest priority item\n",
    "\n",
    "In order: \n",
    "    - 5,A\n",
    "    - 4,B\n",
    "    - 1,D\n",
    "    - 7,F\n",
    "    - 8,G\n",
    "    - 2,H"
   ]
  },
  {
   "cell_type": "markdown",
   "metadata": {
    "id": "VWyApSwFUORw"
   },
   "source": [
    "3. [60 pts] An online computer system for trading stocks needs to process orders of the form \"buy 100 shares at $\\$x$ each\" or \"sell 100 shares at $\\$y$ each.\" A buy order for $\\$x$ can only be processed if there is an existing sell order with price $\\$y$ such that $y \\le x$. Likewise, a sell order for $\\$y$ can only be processed if there is an existing buy order with price $\\$x$ such that $y \\le x$. If a buy or sell order is entered but cannot be processed, it must wait for a future order that allows it to be processed. \n",
    "\n",
    "a. Describe a scheme that allows buy and sell orders to be entered in $O(\\log n)$ time, independent of whether or not they can be immediately processed."
   ]
  },
  {
   "cell_type": "markdown",
   "metadata": {
    "id": "OfJqlVbZXgem"
   },
   "source": [
    "###Answer:\n",
    "I will implement insertion using the Heap Priority Data Structure. According to the lecture, insertion in this data type takes log(n) time. \n",
    "\n",
    "Specifics:\n",
    "I will have two separate heaps for Buy Orders and Sell Orders. The function will no longer need to perform identification to distinguish orders. It can simply access the heap with the correct name (i.e. buy_holder, sell_holder). \n",
    "\n",
    "Finally, the actual orders to be pushed. When pushing an order into a heap, I will push a touple where the \"priority\" is the order price, and the order details is the second element. \n",
    "\n",
    "Example: heappush(buy_holder,(60,buy_order))\n",
    "\n",
    "where priority=$60, and buy_order contains the quantity to be bought along with any other details necessary for the entire class to function properly"
   ]
  },
  {
   "cell_type": "markdown",
   "metadata": {
    "id": "ZOeEQe_iX5Mi"
   },
   "source": [
    "b. Write a program that can process a sequence of stock buy and sell orders as described above. Use the Python heapq module.\n",
    "\n",
    "\n",
    "1.   The class name must be ```StockExchange```.\n",
    "2.   Implement the following methods: ```buy()```, ```sell()```, ```process_orders()```.\n",
    "3.   Both ```buy()``` and ```sell()``` methods must call ```process_orders()```.\n",
    "\n",
    "Expected program usage:\n",
    "\n",
    "```\n",
    "trading = StockExchange()\n",
    "trading.buy(100, 30)\n",
    "trading.sell(50, 20) #Output: 50 shares sold at $20\n",
    "trading.buy(50, 25)\n",
    "trading.sell(100, 25) #Output: 50 shares sold at $25\n",
    "```\n",
    "\n",
    "**Provide your code and attach a recorded audio explanation (You can use online tools like http://veed.io to record your audio).**\n",
    "\n",
    "Some notes:\n",
    "\n",
    "We are taking the perspective of a stock exchange.\n",
    "\n",
    "The orders will be served based on priority of the bid prices. Such that the a buy order with bid price x will be processed when there is sell order with offer price y such that y<=x. Orders with the highest bid price get priority in being matched to sell orders.\n",
    "\n",
    "```\n",
    "Buy 100 shares at $20\n",
    "Buy 100 shares at $15\n",
    "Sell 100 shares at $10\n",
    "- The \"Buy 100 shares at $20\" will be matched with \"Sell 100 shares at $10\" first.\n",
    "\n",
    "Sell 100 shares at $15\n",
    "Sell 100 shares at $10\n",
    "Buy 100 shares at $20\n",
    "- The \"Sell 100 shares at $10\" will be matched with \"Buy 100 shares at $20\" first.\n",
    "```\n"
   ]
  },
  {
   "cell_type": "code",
   "execution_count": 24,
   "metadata": {
    "id": "bo9hAnOnd0zM"
   },
   "outputs": [
    {
     "name": "stdout",
     "output_type": "stream",
     "text": [
      "(20, 50)\n",
      "50 shares sold at $20\n",
      "50 shares sold at $25\n",
      "[(20, 50), (20, 50)]\n",
      "[]\n"
     ]
    }
   ],
   "source": [
    "# YOUR CODE HERE\n",
    "#import the heapq module\n",
    "import heapq\n",
    "\n",
    "#create the class\n",
    "class StockExchange():\n",
    "    def __init__(self):\n",
    "        #first initialize the heaps that will contain the orders\n",
    "        self.heap_buy=[] #heap that will contain buy order\n",
    "        self.heap_sell=[] #heap that will contain sell order\n",
    "        \n",
    "        #initialize the heaps that will be used to iterate through all the orders\n",
    "        self.buy_holder=[]\n",
    "        self.sell_holder=[]\n",
    "        \n",
    "\n",
    "        \n",
    "    #push the buy order onto the buy heap\n",
    "    def buy(self,quantity,price):\n",
    "        heapq.heappush(self.heap_buy,(price,quantity))\n",
    "        self.process_orders()\n",
    "    \n",
    "    #push the sell order onto the sell heap\n",
    "    def sell(self,quantity,price):\n",
    "        heapq.heappush(self.heap_sell,(price,quantity))\n",
    "        self.process_orders()\n",
    "        \n",
    "    #process all possible orders\n",
    "    def process_orders(self):\n",
    "        #initialize holders\n",
    "        \n",
    "        #holds the touples\n",
    "        sell=None\n",
    "        buy=None\n",
    "        \n",
    "        #enables the while function\n",
    "        finish=False\n",
    "        \n",
    "        #merge the matching heaps at the start\n",
    "        for i in self.sell_holder:\n",
    "            #merge the sell heap\n",
    "            heapq.heappush(self.heap_sell,i)\n",
    "        for j in self.buy_holder:\n",
    "            #merge the buy heap\n",
    "            heapq.heappush(self.heap_buy,j)\n",
    "        \n",
    "        #reverse the buy_heap in order to make it from largest to smallest\n",
    "        self.heap_buy.reverse()\n",
    "            \n",
    "        #if buy or sell is empty from very beginning, then finish==True immediately\n",
    "        if(self.heap_buy==[] or self.heap_sell==[]):\n",
    "            finish=True\n",
    "        \n",
    "        #perform comparisons\n",
    "        while(finish==False):\n",
    "            if (self.heap_buy==[]):\n",
    "                #this is the test case for when the sell price fails to match with any of the existing buy prices\n",
    "                \n",
    "                #reset the heap_buy list\n",
    "                self.heap_buy=self.heap_buy+self.buy_holder #merge together the holder and the heap\n",
    "                heapq.heapify(self.heap_buy) #sort\n",
    "                self.heap_buy.reverse() #reverse the order from largest to smallest again\n",
    "                \n",
    "                #pop the current sell item onto the holder\n",
    "                current=heapq.heappop(self.heap_sell)\n",
    "                heapq.heappush(self.sell_holder,current)\n",
    "                \n",
    "                \n",
    "                \n",
    "            elif(sell==\"processed\" and self.heap_sell==[]):\n",
    "                #this means that all possible sell combinations are already processed\n",
    "                \n",
    "                #set finish to True to end the code\n",
    "                finish=True\n",
    "                \n",
    "                #no need to merge the holders back onto the heaps, because this will \n",
    "                #be done during the initialization of process_orders()\n",
    "                \n",
    "            else:\n",
    "                #compare the current sell order to the largest buy order\n",
    "                \n",
    "                sell=heapq.heappop(self.heap_sell)\n",
    "                buy=heapq.heappop(self.heap_buy)\n",
    "                \n",
    "                \n",
    "                if(sell[0]<=buy[0]): #this means that a transaction can be completed\n",
    "                    #determine the price\n",
    "                    price=sell[0]\n",
    "                    \n",
    "                    #determine the quantity sold\n",
    "                    sold=sell[1]-buy[1]\n",
    "\n",
    "                    \n",
    "                    #change the string and the push actions depending on the result\n",
    "                    if(sold==0):\n",
    "                        #both sell order and buy order is equal\n",
    "                        #nothing is pushed onto the holder stacks\n",
    "                        \n",
    "                        #print the transaction\n",
    "                        print(f'{buy[1]} shares sold at ${price}')\n",
    "                        \n",
    "                    elif(sold>0):\n",
    "                        #this means that the sell quantity is larger than the buy quantity\n",
    "                        #push the remaining quantity with the same price back on to the sell heap\n",
    "                        heapq.heappush(self.heap_sell,(price,sold))\n",
    "                        \n",
    "                        #print the transaction\n",
    "                        print(f'{buy[1]} shares sold at ${price}')\n",
    "                        \n",
    "                    \n",
    "                    elif(sold<0):\n",
    "                        #this means that the sell quantity is smaller than the buy quantity\n",
    "                        #push the remaining quantity with the same price back on to the buy heap\n",
    "                        return_quantity=(-1)*sold\n",
    "                        print((price,return_quantity))\n",
    "                        heapq.heappush(self.heap_buy,(price,return_quantity))\n",
    "                        \n",
    "                        \n",
    "                        #print the transaction\n",
    "                        print(f'{sell[1]} shares sold at ${price}')\n",
    "                        \n",
    "                    #######################################\n",
    "                    #initialization for the next sell order\n",
    "                    #######################################\n",
    "                    \n",
    "                    #reset the heap_buy list\n",
    "                    self.heap_buy=self.heap_buy+self.buy_holder #merge together the holder and the heap\n",
    "                    heapq.heapify(self.heap_buy) #sort\n",
    "                    self.heap_buy.reverse() #reverse the order from largest to smallest again\n",
    "                    \n",
    "                    #set {sell} variable to \"processed\"\n",
    "                    sell=\"processed\"\n",
    "                    #the loop now repeats until all entries in {heap_sell} are gone\n",
    "                \n",
    "                else:        \n",
    "                #this is the test case for when the sell_order fails to match with the current buy order\n",
    "                    heapq.heappush(self.buy_holder,buy) #push the current buy price onto the holder\n",
    "                    heapq.heappush(self.heap_sell,sell) #push the current sell price back to the heap\n",
    "                    sell=\"processed\" #set sell to processed\n",
    "                    \n",
    "    \n",
    "\n",
    "trading = StockExchange()\n",
    "trading.buy(100, 30)\n",
    "trading.sell(50, 20) #Output: 50 shares sold at $20\n",
    "trading.buy(50, 25)\n",
    "trading.sell(100, 25) #Output: 50 shares sold at $25\n",
    "\n",
    "        \n",
    "        \n",
    "    \n",
    "print(trading.heap_buy)\n",
    "print(trading.heap_sell)\n",
    "    \n",
    "    "
   ]
  },
  {
   "cell_type": "markdown",
   "metadata": {
    "id": "lRQBUlWoeQr2"
   },
   "source": [
    "Link to your recorded audio explanation:  "
   ]
  },
  {
   "cell_type": "code",
   "execution_count": null,
   "metadata": {},
   "outputs": [],
   "source": [
    "https://www.veed.io/view/d6b5885f-79f5-4688-afbd-9e6c9d58744c?panel=share"
   ]
  }
 ],
 "metadata": {
  "colab": {
   "provenance": []
  },
  "kernelspec": {
   "display_name": "Python 3 (ipykernel)",
   "language": "python",
   "name": "python3"
  },
  "language_info": {
   "codemirror_mode": {
    "name": "ipython",
    "version": 3
   },
   "file_extension": ".py",
   "mimetype": "text/x-python",
   "name": "python",
   "nbconvert_exporter": "python",
   "pygments_lexer": "ipython3",
   "version": "3.9.13"
  }
 },
 "nbformat": 4,
 "nbformat_minor": 1
}
